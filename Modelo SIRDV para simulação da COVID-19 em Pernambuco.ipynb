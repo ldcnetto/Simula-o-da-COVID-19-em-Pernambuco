{
  "nbformat": 4,
  "nbformat_minor": 0,
  "metadata": {
    "colab": {
      "provenance": []
    },
    "kernelspec": {
      "name": "python3",
      "display_name": "Python 3"
    },
    "language_info": {
      "name": "python"
    }
  },
  "cells": [
    {
      "cell_type": "markdown",
      "source": [
        "# **Modelo SIRDV para simulação da COVID-19 em Pernambuco**\n",
        "\n",
        "Por:\n",
        "\n",
        "Leônidas Dantas de Castro Netto (ldcn)\n",
        "\n",
        "Matheus Júlio Boncsidai de Oliveira (mjbo)\n",
        "\n",
        "Victória Luquet Tewari (vllst)\n",
        "\n",
        "CIn-UFPE, Recife"
      ],
      "metadata": {
        "id": "G9iLD7KZpJqR"
      }
    },
    {
      "cell_type": "markdown",
      "source": [
        "#**Introdução**"
      ],
      "metadata": {
        "id": "Ke_EvhHEo-Rf"
      }
    },
    {
      "cell_type": "markdown",
      "source": [
        "&nbsp;&nbsp;&nbsp;&nbsp; A Covid-19 é virus capaz de causar uma epidemia e, de fato, vem causando desde o final de 2019. Ao passar dos anos, foram desenvolvidos modelos epidemiológicos, que fazem uso de sistemas de Equações Ordinárias Diferenciais, ou do inglês, ODE's (Ordinary Diferential Equations). Com esses modelos, é possível fazer uma simulação de como uma epidemia irá se comportar com base em diversos parâmetros."
      ],
      "metadata": {
        "id": "Muf5PF4bqRPc"
      }
    },
    {
      "cell_type": "markdown",
      "source": [
        "O modelo mais básico é o modelo *S.I.R*, onde:\n",
        "- S - Suscetíveis\n",
        "- I - Infectados\n",
        "- R - Recuperados/Removidos\n",
        "\n",
        "Consegue abordar uma equação para cada uma dessas classes, onde cada equação mostra uma curva da evolução da epidemia em relação a cada classe com o tempo."
      ],
      "metadata": {
        "id": "tQ9Xke9jTGF8"
      }
    },
    {
      "cell_type": "markdown",
      "source": [
        "&nbsp;&nbsp;&nbsp;&nbsp; Neste projeto será utilizado um modelo semelhante a esse, porém com mais duas equações, que é o modelo *S.I.R.D.V*, que trata:\n",
        "- D - Deceased (Óbitos)\n",
        "- V - Vacinados\n",
        "\n",
        "Mais detalhes sobre o modelo serão mostrado adiante."
      ],
      "metadata": {
        "id": "XBKWDiLNTtyq"
      }
    },
    {
      "cell_type": "markdown",
      "source": [
        "#**Objetivo**\n",
        "\n"
      ],
      "metadata": {
        "id": "mQits3qd9FQJ"
      }
    },
    {
      "cell_type": "markdown",
      "source": [
        "&nbsp;&nbsp;&nbsp;&nbsp;O objetivo do projeto é mostrar o avanço, ou comportamento, da Covid-19 no estado de Pernambuco nos próximos anos por meio de um sistema de equações diferenciais, ou seja, um modelo epidemiológico. Serão utilizados aguns bancos de dados para mostrar o comportamento da Covid-19 quando combatida com as vacinas mais utilizadas, neste caso, Pfizer, AstraZeneca, CoronaVac e Janssen.\n",
        "\n"
      ],
      "metadata": {
        "id": "XtnEPga0A51c"
      }
    },
    {
      "cell_type": "markdown",
      "source": [
        "&nbsp;&nbsp;&nbsp;&nbsp; Além disso, foi feita uma breve análise dos dados obtidos, onde é possível ver a tabela geral dos dados, e alguns gráficos que mostram as distribuições dos principais atributos ao longo do tempo.\n",
        "\n",
        "\n",
        "\n"
      ],
      "metadata": {
        "id": "by1fgrGWgH8T"
      }
    },
    {
      "cell_type": "markdown",
      "source": [
        "#**Métodos**"
      ],
      "metadata": {
        "id": "SZWcmzFl9Ram"
      }
    },
    {
      "cell_type": "markdown",
      "source": [
        "##Código\n",
        "\n",
        "\n"
      ],
      "metadata": {
        "id": "jd40itnYlEhf"
      }
    },
    {
      "cell_type": "markdown",
      "source": [
        "Foram utlizadas algumas bibliotecas de Python, tanto para simulação quanto para análise de dados, sendo elas:\n",
        "\n",
        "- Pandas (Leitura e manuseio do banco de dados)\n",
        "- Numpy (Suporte para operações e plotagem)\n",
        "- Scipy (Suporte para o modelo de ODE's)\n",
        "- Matplotlib (Plotagem da simulação)\n",
        "- Seaborn (Plotagem para análise dos dados)\n",
        "\n"
      ],
      "metadata": {
        "id": "gLIJIdDnohq3"
      }
    },
    {
      "cell_type": "markdown",
      "source": [
        "##Sistema de ODE's utlizado (MODELO: SIRDV)\n",
        "\n"
      ],
      "metadata": {
        "id": "SSRpRP9x6klb"
      }
    },
    {
      "cell_type": "markdown",
      "source": [
        "$$\n",
        "\\frac{dS}{dt} = -\\beta \\cdot SI-\\alpha\\cdot S\\\\\n",
        "\\frac{dI}{dt} = -\\beta \\cdot SI + \\beta\\cdot (1-\\eta)\\cdot V - \\gamma\\cdot\\mu\\cdot I-\\gamma \\cdot I \\\\\n",
        "\\frac{dR}{dt} = -\\gamma \\cdot I-\\alpha\\cdot R \\\\\n",
        "\\frac{dD}{dt} = -\\gamma \\cdot\\mu\\cdot I \\\\\n",
        "\\frac{dV}{dt} = -\\beta\\cdot (1-\\eta)\\cdot V + \\alpha\\cdot S + \\alpha\\cdot R\n",
        "$$\n",
        "\n",
        "onde:\n",
        "\n",
        "- $\\beta$ = Taxa de transmissão\n",
        "- $\\gamma$ = Taxa de recuperação\n",
        "- $\\mu$ = taxa de mortalidade\n",
        "- $\\alpha$ = taxa de vacinação\n",
        "- $\\eta$ = eficácia da vacina"
      ],
      "metadata": {
        "id": "P-Xq_165opZO"
      }
    },
    {
      "cell_type": "markdown",
      "source": [
        "Neste caso, iremos utilizar 4 vacinas diferentes, cujas eficácias são:\n",
        "- Pfizer: 95%\n",
        "- AstraZeneca: 63,09%\n",
        "- CoronaVac: 51%\n",
        "- Janssen: 85,4%\n",
        "\n",
        "Segundo o site da OMS."
      ],
      "metadata": {
        "id": "MO1VRg6H-QYY"
      }
    },
    {
      "cell_type": "markdown",
      "source": [
        "Taxa de transmissão, segundo a OMS, no dia 10/05/2022 é **1,16**\n",
        "\n",
        "Taxa de recuperação, segundo a OMS, fica entre aproximadamente 17 dias em média, logo **1/17**\n"
      ],
      "metadata": {
        "id": "XccVT5ho61id"
      }
    },
    {
      "cell_type": "markdown",
      "source": [
        "As outras taxas são obtidas pelo banco de dados."
      ],
      "metadata": {
        "id": "pK5IvgqJlhrM"
      }
    },
    {
      "cell_type": "markdown",
      "source": [
        "#**Análise dos dados**"
      ],
      "metadata": {
        "id": "e5tM6fksaSGo"
      }
    },
    {
      "cell_type": "markdown",
      "source": [
        "##Dados gerais"
      ],
      "metadata": {
        "id": "w-WgGR0qoh44"
      }
    },
    {
      "cell_type": "code",
      "source": [
        "import pandas as pd\n",
        "import numpy as np\n",
        "import seaborn as sns\n",
        "from scipy.integrate import odeint\n",
        "import matplotlib.pyplot as plt"
      ],
      "metadata": {
        "id": "T3ls4WS2nQdz"
      },
      "execution_count": null,
      "outputs": []
    },
    {
      "cell_type": "code",
      "source": [
        "general_Data = pd.read_csv('./Dados_Gerais.csv')\n",
        "\n",
        "total_lines = len(general_Data)\n",
        "\n",
        "general_Data"
      ],
      "metadata": {
        "colab": {
          "base_uri": "https://localhost:8080/",
          "height": 488
        },
        "id": "pRoWv_fEm--0",
        "outputId": "9c3b9a4a-fd36-4268-dfb3-bc24e7fbd1f1"
      },
      "execution_count": null,
      "outputs": [
        {
          "output_type": "execute_result",
          "data": {
            "text/plain": [
              "    dt_referencia  dt_atualizacao  confirmados  obitos  tx_obitos  \\\n",
              "0      2020-04-03             NaN          176      14      0.080   \n",
              "1      2020-04-04             NaN          201      21      0.104   \n",
              "2      2020-04-05             NaN          223      30      0.134   \n",
              "3      2020-04-06             NaN          352      34      0.097   \n",
              "4      2020-04-07             NaN          401      46      0.115   \n",
              "..            ...             ...          ...     ...        ...   \n",
              "711    2022-03-15             NaN       871578   21242      0.024   \n",
              "712    2022-03-16             NaN       874704   21253      0.024   \n",
              "713    2022-03-17             NaN       877324   21262      0.024   \n",
              "714    2022-03-18             NaN       879622   21273      0.024   \n",
              "715    2022-03-19             NaN       880404   21285      0.024   \n",
              "\n",
              "     recuperados  tx_recuperados  isolamento  tx_isolamento  enfermaria  \\\n",
              "0             23           0.131          87          0.569          34   \n",
              "1             25           0.124          87          0.494          49   \n",
              "2             25           0.112         101          0.510          44   \n",
              "3             32           0.091         166          0.519          94   \n",
              "4             32           0.080         189          0.512         110   \n",
              "..           ...             ...         ...            ...         ...   \n",
              "711       715816           0.821         324          0.002         870   \n",
              "712       717698           0.821         320          0.002         892   \n",
              "713       719340           0.820         322          0.002         880   \n",
              "714       721117           0.820         322          0.002         854   \n",
              "715       725405           0.824         322          0.002         859   \n",
              "\n",
              "     tx_enfermaria  uti  tx_uti  testes_novos  testes_acumulados  tx_testes  \\\n",
              "0            0.222   18   0.102             0                  0          0   \n",
              "1            0.278   19   0.094             0                  0          0   \n",
              "2            0.222   23   0.103             0                  0          0   \n",
              "3            0.294   26   0.074             0                  0          0   \n",
              "4            0.298   24   0.060             0                  0          0   \n",
              "..             ...  ...     ...           ...                ...        ...   \n",
              "711          0.006  725   0.001          8012            3683503     383698   \n",
              "712          0.006  722   0.001         10163            3693666     384757   \n",
              "713          0.006  719   0.001          8206            3701872     385612   \n",
              "714          0.005  706   0.001           787            3702659     385694   \n",
              "715          0.005  711   0.001          4956            3707615     386210   \n",
              "\n",
              "     leitos_uti  tx_oc_uti  leitos_enf  tc_oc_enf  \n",
              "0             0       0.00           0       0.00  \n",
              "1             0       0.00           0       0.00  \n",
              "2             0       0.00           0       0.00  \n",
              "3             0       0.00           0       0.00  \n",
              "4             0       0.00           0       0.00  \n",
              "..          ...        ...         ...        ...  \n",
              "711        1036       0.46        1103       0.33  \n",
              "712        1036       0.46        1103       0.33  \n",
              "713        1036       0.46        1103       0.33  \n",
              "714        1011       0.43        1051       0.33  \n",
              "715        1004       0.43        1051       0.34  \n",
              "\n",
              "[716 rows x 20 columns]"
            ],
            "text/html": [
              "\n",
              "  <div id=\"df-546b13f3-25e3-4713-9e35-229ede3aa4c9\">\n",
              "    <div class=\"colab-df-container\">\n",
              "      <div>\n",
              "<style scoped>\n",
              "    .dataframe tbody tr th:only-of-type {\n",
              "        vertical-align: middle;\n",
              "    }\n",
              "\n",
              "    .dataframe tbody tr th {\n",
              "        vertical-align: top;\n",
              "    }\n",
              "\n",
              "    .dataframe thead th {\n",
              "        text-align: right;\n",
              "    }\n",
              "</style>\n",
              "<table border=\"1\" class=\"dataframe\">\n",
              "  <thead>\n",
              "    <tr style=\"text-align: right;\">\n",
              "      <th></th>\n",
              "      <th>dt_referencia</th>\n",
              "      <th>dt_atualizacao</th>\n",
              "      <th>confirmados</th>\n",
              "      <th>obitos</th>\n",
              "      <th>tx_obitos</th>\n",
              "      <th>recuperados</th>\n",
              "      <th>tx_recuperados</th>\n",
              "      <th>isolamento</th>\n",
              "      <th>tx_isolamento</th>\n",
              "      <th>enfermaria</th>\n",
              "      <th>tx_enfermaria</th>\n",
              "      <th>uti</th>\n",
              "      <th>tx_uti</th>\n",
              "      <th>testes_novos</th>\n",
              "      <th>testes_acumulados</th>\n",
              "      <th>tx_testes</th>\n",
              "      <th>leitos_uti</th>\n",
              "      <th>tx_oc_uti</th>\n",
              "      <th>leitos_enf</th>\n",
              "      <th>tc_oc_enf</th>\n",
              "    </tr>\n",
              "  </thead>\n",
              "  <tbody>\n",
              "    <tr>\n",
              "      <th>0</th>\n",
              "      <td>2020-04-03</td>\n",
              "      <td>NaN</td>\n",
              "      <td>176</td>\n",
              "      <td>14</td>\n",
              "      <td>0.080</td>\n",
              "      <td>23</td>\n",
              "      <td>0.131</td>\n",
              "      <td>87</td>\n",
              "      <td>0.569</td>\n",
              "      <td>34</td>\n",
              "      <td>0.222</td>\n",
              "      <td>18</td>\n",
              "      <td>0.102</td>\n",
              "      <td>0</td>\n",
              "      <td>0</td>\n",
              "      <td>0</td>\n",
              "      <td>0</td>\n",
              "      <td>0.00</td>\n",
              "      <td>0</td>\n",
              "      <td>0.00</td>\n",
              "    </tr>\n",
              "    <tr>\n",
              "      <th>1</th>\n",
              "      <td>2020-04-04</td>\n",
              "      <td>NaN</td>\n",
              "      <td>201</td>\n",
              "      <td>21</td>\n",
              "      <td>0.104</td>\n",
              "      <td>25</td>\n",
              "      <td>0.124</td>\n",
              "      <td>87</td>\n",
              "      <td>0.494</td>\n",
              "      <td>49</td>\n",
              "      <td>0.278</td>\n",
              "      <td>19</td>\n",
              "      <td>0.094</td>\n",
              "      <td>0</td>\n",
              "      <td>0</td>\n",
              "      <td>0</td>\n",
              "      <td>0</td>\n",
              "      <td>0.00</td>\n",
              "      <td>0</td>\n",
              "      <td>0.00</td>\n",
              "    </tr>\n",
              "    <tr>\n",
              "      <th>2</th>\n",
              "      <td>2020-04-05</td>\n",
              "      <td>NaN</td>\n",
              "      <td>223</td>\n",
              "      <td>30</td>\n",
              "      <td>0.134</td>\n",
              "      <td>25</td>\n",
              "      <td>0.112</td>\n",
              "      <td>101</td>\n",
              "      <td>0.510</td>\n",
              "      <td>44</td>\n",
              "      <td>0.222</td>\n",
              "      <td>23</td>\n",
              "      <td>0.103</td>\n",
              "      <td>0</td>\n",
              "      <td>0</td>\n",
              "      <td>0</td>\n",
              "      <td>0</td>\n",
              "      <td>0.00</td>\n",
              "      <td>0</td>\n",
              "      <td>0.00</td>\n",
              "    </tr>\n",
              "    <tr>\n",
              "      <th>3</th>\n",
              "      <td>2020-04-06</td>\n",
              "      <td>NaN</td>\n",
              "      <td>352</td>\n",
              "      <td>34</td>\n",
              "      <td>0.097</td>\n",
              "      <td>32</td>\n",
              "      <td>0.091</td>\n",
              "      <td>166</td>\n",
              "      <td>0.519</td>\n",
              "      <td>94</td>\n",
              "      <td>0.294</td>\n",
              "      <td>26</td>\n",
              "      <td>0.074</td>\n",
              "      <td>0</td>\n",
              "      <td>0</td>\n",
              "      <td>0</td>\n",
              "      <td>0</td>\n",
              "      <td>0.00</td>\n",
              "      <td>0</td>\n",
              "      <td>0.00</td>\n",
              "    </tr>\n",
              "    <tr>\n",
              "      <th>4</th>\n",
              "      <td>2020-04-07</td>\n",
              "      <td>NaN</td>\n",
              "      <td>401</td>\n",
              "      <td>46</td>\n",
              "      <td>0.115</td>\n",
              "      <td>32</td>\n",
              "      <td>0.080</td>\n",
              "      <td>189</td>\n",
              "      <td>0.512</td>\n",
              "      <td>110</td>\n",
              "      <td>0.298</td>\n",
              "      <td>24</td>\n",
              "      <td>0.060</td>\n",
              "      <td>0</td>\n",
              "      <td>0</td>\n",
              "      <td>0</td>\n",
              "      <td>0</td>\n",
              "      <td>0.00</td>\n",
              "      <td>0</td>\n",
              "      <td>0.00</td>\n",
              "    </tr>\n",
              "    <tr>\n",
              "      <th>...</th>\n",
              "      <td>...</td>\n",
              "      <td>...</td>\n",
              "      <td>...</td>\n",
              "      <td>...</td>\n",
              "      <td>...</td>\n",
              "      <td>...</td>\n",
              "      <td>...</td>\n",
              "      <td>...</td>\n",
              "      <td>...</td>\n",
              "      <td>...</td>\n",
              "      <td>...</td>\n",
              "      <td>...</td>\n",
              "      <td>...</td>\n",
              "      <td>...</td>\n",
              "      <td>...</td>\n",
              "      <td>...</td>\n",
              "      <td>...</td>\n",
              "      <td>...</td>\n",
              "      <td>...</td>\n",
              "      <td>...</td>\n",
              "    </tr>\n",
              "    <tr>\n",
              "      <th>711</th>\n",
              "      <td>2022-03-15</td>\n",
              "      <td>NaN</td>\n",
              "      <td>871578</td>\n",
              "      <td>21242</td>\n",
              "      <td>0.024</td>\n",
              "      <td>715816</td>\n",
              "      <td>0.821</td>\n",
              "      <td>324</td>\n",
              "      <td>0.002</td>\n",
              "      <td>870</td>\n",
              "      <td>0.006</td>\n",
              "      <td>725</td>\n",
              "      <td>0.001</td>\n",
              "      <td>8012</td>\n",
              "      <td>3683503</td>\n",
              "      <td>383698</td>\n",
              "      <td>1036</td>\n",
              "      <td>0.46</td>\n",
              "      <td>1103</td>\n",
              "      <td>0.33</td>\n",
              "    </tr>\n",
              "    <tr>\n",
              "      <th>712</th>\n",
              "      <td>2022-03-16</td>\n",
              "      <td>NaN</td>\n",
              "      <td>874704</td>\n",
              "      <td>21253</td>\n",
              "      <td>0.024</td>\n",
              "      <td>717698</td>\n",
              "      <td>0.821</td>\n",
              "      <td>320</td>\n",
              "      <td>0.002</td>\n",
              "      <td>892</td>\n",
              "      <td>0.006</td>\n",
              "      <td>722</td>\n",
              "      <td>0.001</td>\n",
              "      <td>10163</td>\n",
              "      <td>3693666</td>\n",
              "      <td>384757</td>\n",
              "      <td>1036</td>\n",
              "      <td>0.46</td>\n",
              "      <td>1103</td>\n",
              "      <td>0.33</td>\n",
              "    </tr>\n",
              "    <tr>\n",
              "      <th>713</th>\n",
              "      <td>2022-03-17</td>\n",
              "      <td>NaN</td>\n",
              "      <td>877324</td>\n",
              "      <td>21262</td>\n",
              "      <td>0.024</td>\n",
              "      <td>719340</td>\n",
              "      <td>0.820</td>\n",
              "      <td>322</td>\n",
              "      <td>0.002</td>\n",
              "      <td>880</td>\n",
              "      <td>0.006</td>\n",
              "      <td>719</td>\n",
              "      <td>0.001</td>\n",
              "      <td>8206</td>\n",
              "      <td>3701872</td>\n",
              "      <td>385612</td>\n",
              "      <td>1036</td>\n",
              "      <td>0.46</td>\n",
              "      <td>1103</td>\n",
              "      <td>0.33</td>\n",
              "    </tr>\n",
              "    <tr>\n",
              "      <th>714</th>\n",
              "      <td>2022-03-18</td>\n",
              "      <td>NaN</td>\n",
              "      <td>879622</td>\n",
              "      <td>21273</td>\n",
              "      <td>0.024</td>\n",
              "      <td>721117</td>\n",
              "      <td>0.820</td>\n",
              "      <td>322</td>\n",
              "      <td>0.002</td>\n",
              "      <td>854</td>\n",
              "      <td>0.005</td>\n",
              "      <td>706</td>\n",
              "      <td>0.001</td>\n",
              "      <td>787</td>\n",
              "      <td>3702659</td>\n",
              "      <td>385694</td>\n",
              "      <td>1011</td>\n",
              "      <td>0.43</td>\n",
              "      <td>1051</td>\n",
              "      <td>0.33</td>\n",
              "    </tr>\n",
              "    <tr>\n",
              "      <th>715</th>\n",
              "      <td>2022-03-19</td>\n",
              "      <td>NaN</td>\n",
              "      <td>880404</td>\n",
              "      <td>21285</td>\n",
              "      <td>0.024</td>\n",
              "      <td>725405</td>\n",
              "      <td>0.824</td>\n",
              "      <td>322</td>\n",
              "      <td>0.002</td>\n",
              "      <td>859</td>\n",
              "      <td>0.005</td>\n",
              "      <td>711</td>\n",
              "      <td>0.001</td>\n",
              "      <td>4956</td>\n",
              "      <td>3707615</td>\n",
              "      <td>386210</td>\n",
              "      <td>1004</td>\n",
              "      <td>0.43</td>\n",
              "      <td>1051</td>\n",
              "      <td>0.34</td>\n",
              "    </tr>\n",
              "  </tbody>\n",
              "</table>\n",
              "<p>716 rows × 20 columns</p>\n",
              "</div>\n",
              "      <button class=\"colab-df-convert\" onclick=\"convertToInteractive('df-546b13f3-25e3-4713-9e35-229ede3aa4c9')\"\n",
              "              title=\"Convert this dataframe to an interactive table.\"\n",
              "              style=\"display:none;\">\n",
              "        \n",
              "  <svg xmlns=\"http://www.w3.org/2000/svg\" height=\"24px\"viewBox=\"0 0 24 24\"\n",
              "       width=\"24px\">\n",
              "    <path d=\"M0 0h24v24H0V0z\" fill=\"none\"/>\n",
              "    <path d=\"M18.56 5.44l.94 2.06.94-2.06 2.06-.94-2.06-.94-.94-2.06-.94 2.06-2.06.94zm-11 1L8.5 8.5l.94-2.06 2.06-.94-2.06-.94L8.5 2.5l-.94 2.06-2.06.94zm10 10l.94 2.06.94-2.06 2.06-.94-2.06-.94-.94-2.06-.94 2.06-2.06.94z\"/><path d=\"M17.41 7.96l-1.37-1.37c-.4-.4-.92-.59-1.43-.59-.52 0-1.04.2-1.43.59L10.3 9.45l-7.72 7.72c-.78.78-.78 2.05 0 2.83L4 21.41c.39.39.9.59 1.41.59.51 0 1.02-.2 1.41-.59l7.78-7.78 2.81-2.81c.8-.78.8-2.07 0-2.86zM5.41 20L4 18.59l7.72-7.72 1.47 1.35L5.41 20z\"/>\n",
              "  </svg>\n",
              "      </button>\n",
              "      \n",
              "  <style>\n",
              "    .colab-df-container {\n",
              "      display:flex;\n",
              "      flex-wrap:wrap;\n",
              "      gap: 12px;\n",
              "    }\n",
              "\n",
              "    .colab-df-convert {\n",
              "      background-color: #E8F0FE;\n",
              "      border: none;\n",
              "      border-radius: 50%;\n",
              "      cursor: pointer;\n",
              "      display: none;\n",
              "      fill: #1967D2;\n",
              "      height: 32px;\n",
              "      padding: 0 0 0 0;\n",
              "      width: 32px;\n",
              "    }\n",
              "\n",
              "    .colab-df-convert:hover {\n",
              "      background-color: #E2EBFA;\n",
              "      box-shadow: 0px 1px 2px rgba(60, 64, 67, 0.3), 0px 1px 3px 1px rgba(60, 64, 67, 0.15);\n",
              "      fill: #174EA6;\n",
              "    }\n",
              "\n",
              "    [theme=dark] .colab-df-convert {\n",
              "      background-color: #3B4455;\n",
              "      fill: #D2E3FC;\n",
              "    }\n",
              "\n",
              "    [theme=dark] .colab-df-convert:hover {\n",
              "      background-color: #434B5C;\n",
              "      box-shadow: 0px 1px 3px 1px rgba(0, 0, 0, 0.15);\n",
              "      filter: drop-shadow(0px 1px 2px rgba(0, 0, 0, 0.3));\n",
              "      fill: #FFFFFF;\n",
              "    }\n",
              "  </style>\n",
              "\n",
              "      <script>\n",
              "        const buttonEl =\n",
              "          document.querySelector('#df-546b13f3-25e3-4713-9e35-229ede3aa4c9 button.colab-df-convert');\n",
              "        buttonEl.style.display =\n",
              "          google.colab.kernel.accessAllowed ? 'block' : 'none';\n",
              "\n",
              "        async function convertToInteractive(key) {\n",
              "          const element = document.querySelector('#df-546b13f3-25e3-4713-9e35-229ede3aa4c9');\n",
              "          const dataTable =\n",
              "            await google.colab.kernel.invokeFunction('convertToInteractive',\n",
              "                                                     [key], {});\n",
              "          if (!dataTable) return;\n",
              "\n",
              "          const docLinkHtml = 'Like what you see? Visit the ' +\n",
              "            '<a target=\"_blank\" href=https://colab.research.google.com/notebooks/data_table.ipynb>data table notebook</a>'\n",
              "            + ' to learn more about interactive tables.';\n",
              "          element.innerHTML = '';\n",
              "          dataTable['output_type'] = 'display_data';\n",
              "          await google.colab.output.renderOutput(dataTable, element);\n",
              "          const docLink = document.createElement('div');\n",
              "          docLink.innerHTML = docLinkHtml;\n",
              "          element.appendChild(docLink);\n",
              "        }\n",
              "      </script>\n",
              "    </div>\n",
              "  </div>\n",
              "  "
            ]
          },
          "metadata": {},
          "execution_count": 9
        }
      ]
    },
    {
      "cell_type": "markdown",
      "source": [
        "- Histograma do número de confirmados"
      ],
      "metadata": {
        "id": "8KENukRdhjG1"
      }
    },
    {
      "cell_type": "code",
      "source": [
        "sns.displot(general_Data['confirmados']);"
      ],
      "metadata": {
        "colab": {
          "base_uri": "https://localhost:8080/",
          "height": 369
        },
        "id": "fA1EYxXygzW_",
        "outputId": "50e0d966-c40c-4a22-c542-bc65186c7989"
      },
      "execution_count": null,
      "outputs": [
        {
          "output_type": "display_data",
          "data": {
            "text/plain": [
              "<Figure size 360x360 with 1 Axes>"
            ],
            "image/png": "[encoded data removed]"
          },
          "metadata": {
            "needs_background": "light"
          }
        }
      ]
    },
    {
      "cell_type": "markdown",
      "source": [
        "- Histograma do número de óbitos"
      ],
      "metadata": {
        "id": "VBbZ9wGThsTd"
      }
    },
    {
      "cell_type": "code",
      "source": [
        "sns.displot(general_Data['obitos']);"
      ],
      "metadata": {
        "colab": {
          "base_uri": "https://localhost:8080/",
          "height": 369
        },
        "id": "aE5u0PWthU5E",
        "outputId": "5b2ceccd-200a-4ee0-bbb9-b3adc5284b1d"
      },
      "execution_count": null,
      "outputs": [
        {
          "output_type": "display_data",
          "data": {
            "text/plain": [
              "<Figure size 360x360 with 1 Axes>"
            ],
            "image/png": "[encoded data removed]"
          },
          "metadata": {
            "needs_background": "light"
          }
        }
      ]
    },
    {
      "cell_type": "markdown",
      "source": [
        "##Tabela de vacinados"
      ],
      "metadata": {
        "id": "1upUwCE8dWlN"
      }
    },
    {
      "cell_type": "code",
      "source": [
        "vaccinated_Data = pd.read_csv('./NumeroVacinados_1.csv')\n",
        "\n",
        "vaccinated_Data"
      ],
      "metadata": {
        "id": "Jbm79yj7fdyF",
        "colab": {
          "base_uri": "https://localhost:8080/",
          "height": 424
        },
        "outputId": "a60082eb-9c32-40c4-8b03-aa022f951f8e"
      },
      "execution_count": null,
      "outputs": [
        {
          "output_type": "execute_result",
          "data": {
            "text/plain": [
              "            Dose 1  Dose 2  Dose 3\n",
              "2021-01-12       5       0       0\n",
              "2021-01-13       1       0       0\n",
              "2021-01-14       0       0       0\n",
              "2021-01-15       1       0       0\n",
              "2021-01-16       0       0       0\n",
              "...            ...     ...     ...\n",
              "2022-03-15    2241    3942   13999\n",
              "2022-03-16    2275    4003   14619\n",
              "2022-03-17    1626    3692   11590\n",
              "2022-03-18    1460    3162    8755\n",
              "2022-03-19     262     259    1719\n",
              "\n",
              "[432 rows x 3 columns]"
            ],
            "text/html": [
              "\n",
              "  <div id=\"df-dacfb1e9-59a5-4803-bb76-040d84fbc2d6\">\n",
              "    <div class=\"colab-df-container\">\n",
              "      <div>\n",
              "<style scoped>\n",
              "    .dataframe tbody tr th:only-of-type {\n",
              "        vertical-align: middle;\n",
              "    }\n",
              "\n",
              "    .dataframe tbody tr th {\n",
              "        vertical-align: top;\n",
              "    }\n",
              "\n",
              "    .dataframe thead th {\n",
              "        text-align: right;\n",
              "    }\n",
              "</style>\n",
              "<table border=\"1\" class=\"dataframe\">\n",
              "  <thead>\n",
              "    <tr style=\"text-align: right;\">\n",
              "      <th></th>\n",
              "      <th>Dose 1</th>\n",
              "      <th>Dose 2</th>\n",
              "      <th>Dose 3</th>\n",
              "    </tr>\n",
              "  </thead>\n",
              "  <tbody>\n",
              "    <tr>\n",
              "      <th>2021-01-12</th>\n",
              "      <td>5</td>\n",
              "      <td>0</td>\n",
              "      <td>0</td>\n",
              "    </tr>\n",
              "    <tr>\n",
              "      <th>2021-01-13</th>\n",
              "      <td>1</td>\n",
              "      <td>0</td>\n",
              "      <td>0</td>\n",
              "    </tr>\n",
              "    <tr>\n",
              "      <th>2021-01-14</th>\n",
              "      <td>0</td>\n",
              "      <td>0</td>\n",
              "      <td>0</td>\n",
              "    </tr>\n",
              "    <tr>\n",
              "      <th>2021-01-15</th>\n",
              "      <td>1</td>\n",
              "      <td>0</td>\n",
              "      <td>0</td>\n",
              "    </tr>\n",
              "    <tr>\n",
              "      <th>2021-01-16</th>\n",
              "      <td>0</td>\n",
              "      <td>0</td>\n",
              "      <td>0</td>\n",
              "    </tr>\n",
              "    <tr>\n",
              "      <th>...</th>\n",
              "      <td>...</td>\n",
              "      <td>...</td>\n",
              "      <td>...</td>\n",
              "    </tr>\n",
              "    <tr>\n",
              "      <th>2022-03-15</th>\n",
              "      <td>2241</td>\n",
              "      <td>3942</td>\n",
              "      <td>13999</td>\n",
              "    </tr>\n",
              "    <tr>\n",
              "      <th>2022-03-16</th>\n",
              "      <td>2275</td>\n",
              "      <td>4003</td>\n",
              "      <td>14619</td>\n",
              "    </tr>\n",
              "    <tr>\n",
              "      <th>2022-03-17</th>\n",
              "      <td>1626</td>\n",
              "      <td>3692</td>\n",
              "      <td>11590</td>\n",
              "    </tr>\n",
              "    <tr>\n",
              "      <th>2022-03-18</th>\n",
              "      <td>1460</td>\n",
              "      <td>3162</td>\n",
              "      <td>8755</td>\n",
              "    </tr>\n",
              "    <tr>\n",
              "      <th>2022-03-19</th>\n",
              "      <td>262</td>\n",
              "      <td>259</td>\n",
              "      <td>1719</td>\n",
              "    </tr>\n",
              "  </tbody>\n",
              "</table>\n",
              "<p>432 rows × 3 columns</p>\n",
              "</div>\n",
              "      <button class=\"colab-df-convert\" onclick=\"convertToInteractive('df-dacfb1e9-59a5-4803-bb76-040d84fbc2d6')\"\n",
              "              title=\"Convert this dataframe to an interactive table.\"\n",
              "              style=\"display:none;\">\n",
              "        \n",
              "  <svg xmlns=\"http://www.w3.org/2000/svg\" height=\"24px\"viewBox=\"0 0 24 24\"\n",
              "       width=\"24px\">\n",
              "    <path d=\"M0 0h24v24H0V0z\" fill=\"none\"/>\n",
              "    <path d=\"M18.56 5.44l.94 2.06.94-2.06 2.06-.94-2.06-.94-.94-2.06-.94 2.06-2.06.94zm-11 1L8.5 8.5l.94-2.06 2.06-.94-2.06-.94L8.5 2.5l-.94 2.06-2.06.94zm10 10l.94 2.06.94-2.06 2.06-.94-2.06-.94-.94-2.06-.94 2.06-2.06.94z\"/><path d=\"M17.41 7.96l-1.37-1.37c-.4-.4-.92-.59-1.43-.59-.52 0-1.04.2-1.43.59L10.3 9.45l-7.72 7.72c-.78.78-.78 2.05 0 2.83L4 21.41c.39.39.9.59 1.41.59.51 0 1.02-.2 1.41-.59l7.78-7.78 2.81-2.81c.8-.78.8-2.07 0-2.86zM5.41 20L4 18.59l7.72-7.72 1.47 1.35L5.41 20z\"/>\n",
              "  </svg>\n",
              "      </button>\n",
              "      \n",
              "  <style>\n",
              "    .colab-df-container {\n",
              "      display:flex;\n",
              "      flex-wrap:wrap;\n",
              "      gap: 12px;\n",
              "    }\n",
              "\n",
              "    .colab-df-convert {\n",
              "      background-color: #E8F0FE;\n",
              "      border: none;\n",
              "      border-radius: 50%;\n",
              "      cursor: pointer;\n",
              "      display: none;\n",
              "      fill: #1967D2;\n",
              "      height: 32px;\n",
              "      padding: 0 0 0 0;\n",
              "      width: 32px;\n",
              "    }\n",
              "\n",
              "    .colab-df-convert:hover {\n",
              "      background-color: #E2EBFA;\n",
              "      box-shadow: 0px 1px 2px rgba(60, 64, 67, 0.3), 0px 1px 3px 1px rgba(60, 64, 67, 0.15);\n",
              "      fill: #174EA6;\n",
              "    }\n",
              "\n",
              "    [theme=dark] .colab-df-convert {\n",
              "      background-color: #3B4455;\n",
              "      fill: #D2E3FC;\n",
              "    }\n",
              "\n",
              "    [theme=dark] .colab-df-convert:hover {\n",
              "      background-color: #434B5C;\n",
              "      box-shadow: 0px 1px 3px 1px rgba(0, 0, 0, 0.15);\n",
              "      filter: drop-shadow(0px 1px 2px rgba(0, 0, 0, 0.3));\n",
              "      fill: #FFFFFF;\n",
              "    }\n",
              "  </style>\n",
              "\n",
              "      <script>\n",
              "        const buttonEl =\n",
              "          document.querySelector('#df-dacfb1e9-59a5-4803-bb76-040d84fbc2d6 button.colab-df-convert');\n",
              "        buttonEl.style.display =\n",
              "          google.colab.kernel.accessAllowed ? 'block' : 'none';\n",
              "\n",
              "        async function convertToInteractive(key) {\n",
              "          const element = document.querySelector('#df-dacfb1e9-59a5-4803-bb76-040d84fbc2d6');\n",
              "          const dataTable =\n",
              "            await google.colab.kernel.invokeFunction('convertToInteractive',\n",
              "                                                     [key], {});\n",
              "          if (!dataTable) return;\n",
              "\n",
              "          const docLinkHtml = 'Like what you see? Visit the ' +\n",
              "            '<a target=\"_blank\" href=https://colab.research.google.com/notebooks/data_table.ipynb>data table notebook</a>'\n",
              "            + ' to learn more about interactive tables.';\n",
              "          element.innerHTML = '';\n",
              "          dataTable['output_type'] = 'display_data';\n",
              "          await google.colab.output.renderOutput(dataTable, element);\n",
              "          const docLink = document.createElement('div');\n",
              "          docLink.innerHTML = docLinkHtml;\n",
              "          element.appendChild(docLink);\n",
              "        }\n",
              "      </script>\n",
              "    </div>\n",
              "  </div>\n",
              "  "
            ]
          },
          "metadata": {},
          "execution_count": 14
        }
      ]
    },
    {
      "cell_type": "markdown",
      "source": [
        "###Resumo de cada Dose."
      ],
      "metadata": {
        "id": "lUahgsZrorsq"
      }
    },
    {
      "cell_type": "code",
      "source": [
        "vaccinated_Data[\"Dose 1\"].describe()"
      ],
      "metadata": {
        "id": "IT3IL8nGowix"
      },
      "execution_count": null,
      "outputs": []
    },
    {
      "cell_type": "code",
      "source": [
        "vaccinated_Data[\"Dose 2\"].describe()"
      ],
      "metadata": {
        "id": "TtfObMnho6f4"
      },
      "execution_count": null,
      "outputs": []
    },
    {
      "cell_type": "code",
      "source": [
        "vaccinated_Data[\"Dose 3\"].describe()"
      ],
      "metadata": {
        "id": "iB5cgWo_o6Jz"
      },
      "execution_count": null,
      "outputs": []
    },
    {
      "cell_type": "code",
      "source": [
        "Dose1 = vaccinated_Data['Dose 1'].sum()\n",
        "Dose2 = vaccinated_Data['Dose 2'].sum()\n",
        "Dose3 = vaccinated_Data['Dose 3'].sum()\n",
        "print(f'Total de doses aplicadas desde o início para \\nDose 1: {Dose1}\\nDose 2: {Dose2}\\nDose 3: {Dose3}')"
      ],
      "metadata": {
        "id": "-_EAtYNduaI-"
      },
      "execution_count": null,
      "outputs": []
    },
    {
      "cell_type": "markdown",
      "source": [
        "###Distribuição de cada Dose."
      ],
      "metadata": {
        "id": "wP9lZLVKshr2"
      }
    },
    {
      "cell_type": "code",
      "source": [
        "sns.distplot(vaccinated_Data['Dose 1']);"
      ],
      "metadata": {
        "id": "4x7LVt_kspf6",
        "colab": {
          "base_uri": "https://localhost:8080/",
          "height": 345
        },
        "outputId": "b5d380fd-41d0-407d-f217-c924485b18c7"
      },
      "execution_count": null,
      "outputs": [
        {
          "output_type": "stream",
          "name": "stderr",
          "text": [
            "/usr/local/lib/python3.7/dist-packages/seaborn/distributions.py:2619: FutureWarning: `distplot` is a deprecated function and will be removed in a future version. Please adapt your code to use either `displot` (a figure-level function with similar flexibility) or `histplot` (an axes-level function for histograms).\n",
            "  warnings.warn(msg, FutureWarning)\n"
          ]
        },
        {
          "output_type": "display_data",
          "data": {
            "text/plain": [
              "<Figure size 432x288 with 1 Axes>"
            ],
            "image/png": "[encoded data removed]"
          },
          "metadata": {
            "needs_background": "light"
          }
        }
      ]
    },
    {
      "cell_type": "code",
      "source": [
        "sns.distplot(vaccinated_Data['Dose 2']);"
      ],
      "metadata": {
        "id": "Qf_oJhiospfJ"
      },
      "execution_count": null,
      "outputs": []
    },
    {
      "cell_type": "code",
      "source": [
        "sns.distplot(vaccinated_Data['Dose 3']);"
      ],
      "metadata": {
        "id": "HMK19ZtXsqSB"
      },
      "execution_count": null,
      "outputs": []
    },
    {
      "cell_type": "markdown",
      "source": [
        "#**Simulação**"
      ],
      "metadata": {
        "id": "x_VEuLYMLulW"
      }
    },
    {
      "cell_type": "markdown",
      "source": [
        "##Separando os dados de interesse"
      ],
      "metadata": {
        "id": "HYYUAIw0d-Jc"
      }
    },
    {
      "cell_type": "code",
      "source": [
        "pop_total_pe = 9674793\n",
        "\n",
        "tx_obitos = general_Data.iloc[:, [4]].values # todas as linhas e coluna 4\n",
        "tx_recuperados = general_Data.iloc[:, [6]].values # todas as linhas e coluna 6\n",
        "\n",
        "total_casos = general_Data.iloc[:, [2]] # todas as linhas e coluna 2\n",
        "\n",
        "general_Data.iloc[:, [6]].values.sum()"
      ],
      "metadata": {
        "id": "cjez_gvy76NS"
      },
      "execution_count": null,
      "outputs": []
    },
    {
      "cell_type": "markdown",
      "source": [
        "##Simulação do modelo"
      ],
      "metadata": {
        "id": "COidhMtNeEJ5"
      }
    },
    {
      "cell_type": "code",
      "source": [
        "t = np.linspace(0, 100, 100) # Gerando um espaço de tempo\n",
        "called_amount = 0\n",
        "\n",
        "# Equação da Morte\n",
        "def deathRate(t):\n",
        "  global called_amount\n",
        "  value = tx_obitos[called_amount]\n",
        "  called_amount = called_amount + 1\n",
        "  return value\n",
        "\n",
        "def rhsDeath(D, t, deathRate):\n",
        "  dDdt = deathRate(t)\n",
        "  return dDdt\n",
        "\n",
        "D0 = tx_obitos[0]\n",
        "\n",
        "D = odeint(rhsDeath, D0, t, args=(deathRate, ))\n",
        "\n",
        "# Explicitando as Taxas\n",
        "tx_transmissao = 1.16 / pop_total_pe\n",
        "tx_morte = general_Data.iloc[:, [4]].values.sum() / total_lines\n",
        "tx_rec = 1./17\n",
        "\n",
        "# Taxa de Vacinação = os vacinados serao considerados aqueles com a terceira dose\n",
        "tx_vac = 2281034/305/pop_total_pe # 240 -> tempo no qual a terceira dose entrou em cena\n",
        "\n",
        "# Eficácia da Vacina = média das eficacias das principais vacinas distribuidas (pfizer, astrazeneca, janssen e coronavac)\n",
        "eficiencia_vac = (0.95 + 0.6309 + 0.51 + 0.854) / 4\n",
        "\n",
        "I0, R0, D0, V0 = 154999, 725405, 21285, 2281034\n",
        "S0 = pop_total_pe - I0 - R0 - D0\n",
        "\n",
        "def SIRDV_Model(y, t, tx_transmissao, tx_rec, tx_morte, tx_vac, eficiencia_vac):\n",
        "    S, I, R, D, V = y\n",
        "    dSdt = -tx_transmissao * S * I\n",
        "    dIdt = tx_transmissao * S * I - tx_rec * tx_morte * I - tx_rec * I\n",
        "    dRdt = tx_rec * I\n",
        "    dDdt = tx_rec * tx_morte * I\n",
        "    dVdt = -tx_transmissao*(1 - eficiencia_vac) * V + tx_vac * S + tx_vac * R\n",
        "    return dSdt, dIdt, dRdt, dDdt, dVdt\n",
        "\n",
        "# Condições iniciais\n",
        "y0 = S0, I0, R0, D0, V0\n",
        "\n",
        "# Resolvendo o Sistema de ODEs\n",
        "solution = odeint(SIRDV_Model, y0, t, args=(tx_transmissao, tx_rec, tx_morte, tx_vac, eficiencia_vac))\n",
        "S, I, R, D, V = solution.T\n",
        "\n",
        "plt.figure(figsize=(12, 6))\n",
        "plt.plot(t, S / pop_total_pe, 'g-', linewidth=2, label=\"Suscetiveis\")\n",
        "plt.plot(t, I / pop_total_pe, 'r-', linewidth=2, label=\"Infectados\")\n",
        "plt.plot(t, R / pop_total_pe, 'b-', linewidth=2, label=\"Recuperados\")\n",
        "plt.plot(t, D / pop_total_pe, 'c-', linewidth=2, label=\"Mortes\")\n",
        "plt.plot(t, V / pop_total_pe, 'y-', linewidth=2, label=\"Vacinados\")\n",
        "plt.xlabel('t')\n",
        "plt.grid()\n",
        "plt.legend()\n",
        "plt.show()"
      ],
      "metadata": {
        "id": "tAWjKeZBL07o"
      },
      "execution_count": null,
      "outputs": []
    },
    {
      "cell_type": "markdown",
      "source": [
        "# **Conclusão dos resultados**"
      ],
      "metadata": {
        "id": "qpYW5fMmUiJD"
      }
    },
    {
      "cell_type": "markdown",
      "source": [
        "Para nosso projeto, utilizamos do Modelo Epidemiológico SIRDV, uma variante do Modelo SIR no qual é incluído dados de óbitos (representado pela letra D - Deceased) e de vacinados (V). Foi utilizado todos os dados de desde o início da pandemia até o dia 19 de março de 2022 como base para resolução das ODE's e para ser realizada a previsão das taxas.\n",
        "\n",
        "A partir dos dados alcançados, foi formado um gráfico que acompanha e prevê o desenvolvimento das taxas abordadas e, através dele, podemos concluir que:\n",
        "\n",
        "- A **taxa de suscetíveis** tende a zerar porque é influenciada pela taxa de vacinados, que é linear (prevendo que o ritmo de vacinação tenderá, mesmo que aos poucos, a 100% da população)\n",
        "- A **taxa de infectados**, a medida que o tempo passa, é cada vez menor, pois a taxa de vacinados também influencia diretamente.\n",
        "- A **taxa de recuperados** não chega a 100% (ou a 1.0, como é apresentado no gráfico), pois é dito na realização da ODE que as vacinas têm um valor de eficácia específico, não garantindo 100% de proteção, logo sempre haverá uma taxa, mesmo que mínima, de óbitos que influenciará na taxa de recuperados. Ambas são lineares, pois se tornaram dependentes uma da outra"
      ],
      "metadata": {
        "id": "2aEWtAeVUlW8"
      }
    },
    {
      "cell_type": "markdown",
      "source": [
        "#**Referências**"
      ],
      "metadata": {
        "id": "2OQREsJViSyv"
      }
    },
    {
      "cell_type": "markdown",
      "source": [
        "Bancos de dados utilizados:\n",
        "\n",
        "Dados gerais (https://dados.seplag.pe.gov.br/apps/corona.html)\n",
        "\n",
        "Número de vacinas (https://app.powerbi.com/view?r=eyJrIjoiNmI1NDcyYTUtYTlhMS00ZWFlLWE4MTYtOGQzM2RkMzgyOTAxIiwidCI6ImQ1ZTU0MGZmLTkzNzAtNGNhMi04YmVmLWQwMzcyMWQxM2MwNSJ9&pageName=ReportSectiondc8ac2b66d0753222000)"
      ],
      "metadata": {
        "id": "ul-jvd8jj4yU"
      }
    },
    {
      "cell_type": "markdown",
      "source": [
        "Sobre as vacinas:\n",
        "\n",
        "Pfizer (https://www.who.int/pt/news-room/feature-stories/detail/who-can-take-the-pfizer-biontech-covid-19--vaccine)\n",
        "\n",
        "AstraZeneca (https://www.who.int/pt/news-room/feature-stories/detail/the-oxford-astrazeneca-covid-19-vaccine-what-you-need-to-know)\n",
        "\n",
        "CoronaVac (https://www.who.int/news-room/feature-stories/detail/the-sinovac-covid-19-vaccine-what-you-need-to-know?gclid=CjwKCAjwve2TBhByEiwAaktM1Par0HJRq_LNvcvFDjvv9WCUS1D1LskotvP3ew9KMgzP0_h_ylQdXBoCPjwQAvD_BwE)\n",
        "\n",
        "Janssen (https://www.who.int/news-room/feature-stories/detail/the-j-j-covid-19-vaccine-what-you-need-to-know)"
      ],
      "metadata": {
        "id": "VIslCso0iVzY"
      }
    },
    {
      "cell_type": "markdown",
      "source": [
        "Taxas:\n",
        "\n",
        "Taxa de transmissão (https://g1.globo.com/df/distrito-federal/noticia/2022/05/10/covid-19-taxa-de-transmissao-sobe-mais-uma-vez-df-registra-188-novos-casos-e-mais-2-mortes.ghtml)\n",
        "\n",
        "Taxa de recuperação (https://www.who.int/news-room/commentaries/detail/criteria-for-releasing-covid-19-patients-from-isolation)"
      ],
      "metadata": {
        "id": "7UryFQGjjTDb"
      }
    }
  ]
}